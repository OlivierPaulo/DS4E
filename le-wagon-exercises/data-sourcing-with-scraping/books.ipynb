{
 "cells": [
  {
   "cell_type": "markdown",
   "metadata": {},
   "source": [
    "# Importing the libraries"
   ]
  },
  {
   "cell_type": "code",
   "execution_count": 1,
   "metadata": {},
   "outputs": [],
   "source": [
    "import requests\n",
    "from bs4 import BeautifulSoup\n",
    "\n",
    "import numpy as np\n",
    "import pandas as pd\n",
    "\n",
    "%matplotlib inline\n",
    "import matplotlib"
   ]
  },
  {
   "cell_type": "markdown",
   "metadata": {},
   "source": [
    "## Make the Web request and fetch data from the URL"
   ]
  },
  {
   "cell_type": "code",
   "execution_count": 49,
   "metadata": {},
   "outputs": [
    {
     "data": {
      "text/plain": [
       "20"
      ]
     },
     "execution_count": 49,
     "metadata": {},
     "output_type": "execute_result"
    }
   ],
   "source": [
    "url = \"http://books.toscrape.com/\"\n",
    "\n",
    "# TODO: Use `requests` to do an HTTP request to fetch data located at that URL\n",
    "request = requests.get(url)\n",
    "data = request.content\n",
    "\n",
    "# TODO: Create a `BeautifulSoup` instance with that data\n",
    "soup = BeautifulSoup(data, \"html.parser\")\n",
    "books = soup.find_all(\"article\", class_=\"product_pod\")\n",
    "len(books)\n"
   ]
  },
  {
   "cell_type": "markdown",
   "metadata": {},
   "source": [
    "## Parsing _one_ book"
   ]
  },
  {
   "cell_type": "code",
   "execution_count": 25,
   "metadata": {},
   "outputs": [
    {
     "data": {
      "text/plain": [
       "51.77"
      ]
     },
     "execution_count": 25,
     "metadata": {},
     "output_type": "execute_result"
    }
   ],
   "source": [
    "books_title = books[0].find(\"h3\").string\n",
    "book_price = float(books[0].find(\"p\", class_=\"price_color\").string.strip(\"£\"))\n",
    "book_price"
   ]
  },
  {
   "cell_type": "code",
   "execution_count": 28,
   "metadata": {},
   "outputs": [
    {
     "data": {
      "text/plain": [
       "['star-rating', 'Three']"
      ]
     },
     "execution_count": 28,
     "metadata": {},
     "output_type": "execute_result"
    }
   ],
   "source": [
    "book_stars = books[0].find(\"p\", class_=\"star-rating\")\n",
    "book_stars.attrs['class']"
   ]
  },
  {
   "cell_type": "code",
   "execution_count": 29,
   "metadata": {},
   "outputs": [
    {
     "data": {
      "text/plain": [
       "3"
      ]
     },
     "execution_count": 29,
     "metadata": {},
     "output_type": "execute_result"
    }
   ],
   "source": [
    "def parse_rating(rating_classes):\n",
    "    # TODO: Look at `rating_classes` and return the right rating\n",
    "    # e.g. of an argument for `rating_classes`: [ 'star-rating', 'Three' ]\n",
    "    # \"One\" => 1\n",
    "    # \"Two\" => 2\n",
    "    # \"Three\" => 3\n",
    "    # \"Four\" => 4\n",
    "    # \"Five\" => 5\n",
    "    rating_dict = {\n",
    "        \"One\":1,\n",
    "        \"Two\":2,\n",
    "        \"Three\":3,\n",
    "        \"Four\":4,\n",
    "        \"Five\":5\n",
    "    }\n",
    "    for rate in rating_dict:\n",
    "        if rate in rating_classes:\n",
    "            return rating_dict[rate]\n",
    "parse_rating(book_stars.attrs['class'])"
   ]
  },
  {
   "cell_type": "markdown",
   "metadata": {},
   "source": [
    "## Parsing _all_ books"
   ]
  },
  {
   "cell_type": "code",
   "execution_count": 35,
   "metadata": {},
   "outputs": [
    {
     "data": {
      "text/plain": [
       "{'Title': ['A Light in the ...',\n",
       "  'Tipping the Velvet',\n",
       "  'Soumission',\n",
       "  'Sharp Objects',\n",
       "  'Sapiens: A Brief History ...',\n",
       "  'The Requiem Red',\n",
       "  'The Dirty Little Secrets ...',\n",
       "  'The Coming Woman: A ...',\n",
       "  'The Boys in the ...',\n",
       "  'The Black Maria',\n",
       "  'Starving Hearts (Triangular Trade ...',\n",
       "  \"Shakespeare's Sonnets\",\n",
       "  'Set Me Free',\n",
       "  \"Scott Pilgrim's Precious Little ...\",\n",
       "  'Rip it Up and ...',\n",
       "  'Our Band Could Be ...',\n",
       "  'Olio',\n",
       "  'Mesaerion: The Best Science ...',\n",
       "  'Libertarianism for Beginners',\n",
       "  \"It's Only the Himalayas\"],\n",
       " 'Price': [51.77,\n",
       "  53.74,\n",
       "  50.1,\n",
       "  47.82,\n",
       "  54.23,\n",
       "  22.65,\n",
       "  33.34,\n",
       "  17.93,\n",
       "  22.6,\n",
       "  52.15,\n",
       "  13.99,\n",
       "  20.66,\n",
       "  17.46,\n",
       "  52.29,\n",
       "  35.02,\n",
       "  57.25,\n",
       "  23.88,\n",
       "  37.59,\n",
       "  51.33,\n",
       "  45.17],\n",
       " 'Rating': [3, 1, 1, 4, 5, 1, 4, 3, 4, 1, 2, 4, 5, 5, 5, 3, 1, 1, 2, 2]}"
      ]
     },
     "execution_count": 35,
     "metadata": {},
     "output_type": "execute_result"
    }
   ],
   "source": [
    "books_dict = {\n",
    "    'Title': [],\n",
    "    'Price': [],\n",
    "    'Rating': []\n",
    "}\n",
    "for book in books:\n",
    "    books_dict['Title'].append(book.find(\"h3\").string)\n",
    "    books_dict['Price'].append(float(book.find(\"p\", class_=\"price_color\").string.strip(\"£\")))\n",
    "    books_dict['Rating'].append(parse_rating(book.find(\"p\", class_=\"star-rating\").attrs['class']))\n",
    "    \n",
    "books_dict"
   ]
  },
  {
   "cell_type": "code",
   "execution_count": 39,
   "metadata": {},
   "outputs": [
    {
     "data": {
      "text/plain": [
       "20"
      ]
     },
     "execution_count": 39,
     "metadata": {},
     "output_type": "execute_result"
    }
   ],
   "source": [
    "len(books_dict)       # You should have 3 dictionaries\n",
    "len(books_dict[\"Title\"]) # Each containing 20 elements from the 20 books, as many as on the web page!"
   ]
  },
  {
   "cell_type": "markdown",
   "metadata": {},
   "source": [
    "### Loading data in Pandas"
   ]
  },
  {
   "cell_type": "code",
   "execution_count": 40,
   "metadata": {},
   "outputs": [
    {
     "data": {
      "text/html": [
       "<div>\n",
       "<style scoped>\n",
       "    .dataframe tbody tr th:only-of-type {\n",
       "        vertical-align: middle;\n",
       "    }\n",
       "\n",
       "    .dataframe tbody tr th {\n",
       "        vertical-align: top;\n",
       "    }\n",
       "\n",
       "    .dataframe thead th {\n",
       "        text-align: right;\n",
       "    }\n",
       "</style>\n",
       "<table border=\"1\" class=\"dataframe\">\n",
       "  <thead>\n",
       "    <tr style=\"text-align: right;\">\n",
       "      <th></th>\n",
       "      <th>Title</th>\n",
       "      <th>Price</th>\n",
       "      <th>Rating</th>\n",
       "    </tr>\n",
       "  </thead>\n",
       "  <tbody>\n",
       "    <tr>\n",
       "      <th>0</th>\n",
       "      <td>A Light in the ...</td>\n",
       "      <td>51.77</td>\n",
       "      <td>3</td>\n",
       "    </tr>\n",
       "    <tr>\n",
       "      <th>1</th>\n",
       "      <td>Tipping the Velvet</td>\n",
       "      <td>53.74</td>\n",
       "      <td>1</td>\n",
       "    </tr>\n",
       "    <tr>\n",
       "      <th>2</th>\n",
       "      <td>Soumission</td>\n",
       "      <td>50.10</td>\n",
       "      <td>1</td>\n",
       "    </tr>\n",
       "    <tr>\n",
       "      <th>3</th>\n",
       "      <td>Sharp Objects</td>\n",
       "      <td>47.82</td>\n",
       "      <td>4</td>\n",
       "    </tr>\n",
       "    <tr>\n",
       "      <th>4</th>\n",
       "      <td>Sapiens: A Brief History ...</td>\n",
       "      <td>54.23</td>\n",
       "      <td>5</td>\n",
       "    </tr>\n",
       "    <tr>\n",
       "      <th>5</th>\n",
       "      <td>The Requiem Red</td>\n",
       "      <td>22.65</td>\n",
       "      <td>1</td>\n",
       "    </tr>\n",
       "    <tr>\n",
       "      <th>6</th>\n",
       "      <td>The Dirty Little Secrets ...</td>\n",
       "      <td>33.34</td>\n",
       "      <td>4</td>\n",
       "    </tr>\n",
       "    <tr>\n",
       "      <th>7</th>\n",
       "      <td>The Coming Woman: A ...</td>\n",
       "      <td>17.93</td>\n",
       "      <td>3</td>\n",
       "    </tr>\n",
       "    <tr>\n",
       "      <th>8</th>\n",
       "      <td>The Boys in the ...</td>\n",
       "      <td>22.60</td>\n",
       "      <td>4</td>\n",
       "    </tr>\n",
       "    <tr>\n",
       "      <th>9</th>\n",
       "      <td>The Black Maria</td>\n",
       "      <td>52.15</td>\n",
       "      <td>1</td>\n",
       "    </tr>\n",
       "    <tr>\n",
       "      <th>10</th>\n",
       "      <td>Starving Hearts (Triangular Trade ...</td>\n",
       "      <td>13.99</td>\n",
       "      <td>2</td>\n",
       "    </tr>\n",
       "    <tr>\n",
       "      <th>11</th>\n",
       "      <td>Shakespeare's Sonnets</td>\n",
       "      <td>20.66</td>\n",
       "      <td>4</td>\n",
       "    </tr>\n",
       "    <tr>\n",
       "      <th>12</th>\n",
       "      <td>Set Me Free</td>\n",
       "      <td>17.46</td>\n",
       "      <td>5</td>\n",
       "    </tr>\n",
       "    <tr>\n",
       "      <th>13</th>\n",
       "      <td>Scott Pilgrim's Precious Little ...</td>\n",
       "      <td>52.29</td>\n",
       "      <td>5</td>\n",
       "    </tr>\n",
       "    <tr>\n",
       "      <th>14</th>\n",
       "      <td>Rip it Up and ...</td>\n",
       "      <td>35.02</td>\n",
       "      <td>5</td>\n",
       "    </tr>\n",
       "    <tr>\n",
       "      <th>15</th>\n",
       "      <td>Our Band Could Be ...</td>\n",
       "      <td>57.25</td>\n",
       "      <td>3</td>\n",
       "    </tr>\n",
       "    <tr>\n",
       "      <th>16</th>\n",
       "      <td>Olio</td>\n",
       "      <td>23.88</td>\n",
       "      <td>1</td>\n",
       "    </tr>\n",
       "    <tr>\n",
       "      <th>17</th>\n",
       "      <td>Mesaerion: The Best Science ...</td>\n",
       "      <td>37.59</td>\n",
       "      <td>1</td>\n",
       "    </tr>\n",
       "    <tr>\n",
       "      <th>18</th>\n",
       "      <td>Libertarianism for Beginners</td>\n",
       "      <td>51.33</td>\n",
       "      <td>2</td>\n",
       "    </tr>\n",
       "    <tr>\n",
       "      <th>19</th>\n",
       "      <td>It's Only the Himalayas</td>\n",
       "      <td>45.17</td>\n",
       "      <td>2</td>\n",
       "    </tr>\n",
       "  </tbody>\n",
       "</table>\n",
       "</div>"
      ],
      "text/plain": [
       "                                    Title  Price  Rating\n",
       "0                      A Light in the ...  51.77       3\n",
       "1                      Tipping the Velvet  53.74       1\n",
       "2                              Soumission  50.10       1\n",
       "3                           Sharp Objects  47.82       4\n",
       "4            Sapiens: A Brief History ...  54.23       5\n",
       "5                         The Requiem Red  22.65       1\n",
       "6            The Dirty Little Secrets ...  33.34       4\n",
       "7                 The Coming Woman: A ...  17.93       3\n",
       "8                     The Boys in the ...  22.60       4\n",
       "9                         The Black Maria  52.15       1\n",
       "10  Starving Hearts (Triangular Trade ...  13.99       2\n",
       "11                  Shakespeare's Sonnets  20.66       4\n",
       "12                            Set Me Free  17.46       5\n",
       "13    Scott Pilgrim's Precious Little ...  52.29       5\n",
       "14                      Rip it Up and ...  35.02       5\n",
       "15                  Our Band Could Be ...  57.25       3\n",
       "16                                   Olio  23.88       1\n",
       "17        Mesaerion: The Best Science ...  37.59       1\n",
       "18           Libertarianism for Beginners  51.33       2\n",
       "19                It's Only the Himalayas  45.17       2"
      ]
     },
     "execution_count": 40,
     "metadata": {},
     "output_type": "execute_result"
    }
   ],
   "source": [
    "books_df = pd.DataFrame.from_dict(books_dict)\n",
    "books_df"
   ]
  },
  {
   "cell_type": "code",
   "execution_count": 41,
   "metadata": {},
   "outputs": [
    {
     "data": {
      "text/plain": [
       "<matplotlib.axes._subplots.AxesSubplot at 0x7f81c2f7fe50>"
      ]
     },
     "execution_count": 41,
     "metadata": {},
     "output_type": "execute_result"
    },
    {
     "data": {
      "image/png": "[encoded data removed]",
      "text/plain": [
       "<Figure size 432x288 with 1 Axes>"
      ]
     },
     "metadata": {
      "needs_background": "light"
     },
     "output_type": "display_data"
    }
   ],
   "source": [
    "books_df.groupby(\"Rating\").count()[\"Title\"].plot(kind=\"bar\")"
   ]
  },
  {
   "cell_type": "markdown",
   "metadata": {},
   "source": [
    "### Going through all the pages of the catalogue"
   ]
  },
  {
   "cell_type": "code",
   "execution_count": 83,
   "metadata": {},
   "outputs": [],
   "source": [
    "url_pattern = \"http://books.toscrape.com/catalogue/page-{x}.html\"\n",
    "MAX_PAGE = 50\n",
    "\n",
    "all_books_dict = {\n",
    "    'Title': [],\n",
    "    'Price': [],\n",
    "    'Rating': []\n",
    "}\n",
    "\n",
    "for page in range(1, MAX_PAGE + 1):\n",
    "    url = f\"http://books.toscrape.com/catalogue/page-{page}.html\"\n",
    "    request = requests.get(url)\n",
    "    new_data = request.content\n",
    "    soup = BeautifulSoup(new_data, \"html.parser\")    \n",
    "    books = soup.find_all(\"article\", class_=\"product_pod\")\n",
    "\n",
    "    for book in books:\n",
    "        all_books_dict['Title'].append(book.find(\"h3\").string)\n",
    "        all_books_dict['Price'].append(float(book.find(\"p\", class_=\"price_color\").string.strip(\"£\")))\n",
    "        all_books_dict['Rating'].append(parse_rating(book.find(\"p\", class_=\"star-rating\").attrs['class']))\n",
    "        "
   ]
  },
  {
   "cell_type": "code",
   "execution_count": 84,
   "metadata": {},
   "outputs": [
    {
     "data": {
      "text/plain": [
       "1000"
      ]
     },
     "execution_count": 84,
     "metadata": {},
     "output_type": "execute_result"
    }
   ],
   "source": [
    "len(all_books_dict[\"Title\"])"
   ]
  },
  {
   "cell_type": "code",
   "execution_count": 85,
   "metadata": {},
   "outputs": [
    {
     "data": {
      "text/html": [
       "<div>\n",
       "<style scoped>\n",
       "    .dataframe tbody tr th:only-of-type {\n",
       "        vertical-align: middle;\n",
       "    }\n",
       "\n",
       "    .dataframe tbody tr th {\n",
       "        vertical-align: top;\n",
       "    }\n",
       "\n",
       "    .dataframe thead th {\n",
       "        text-align: right;\n",
       "    }\n",
       "</style>\n",
       "<table border=\"1\" class=\"dataframe\">\n",
       "  <thead>\n",
       "    <tr style=\"text-align: right;\">\n",
       "      <th></th>\n",
       "      <th>Title</th>\n",
       "      <th>Price</th>\n",
       "      <th>Rating</th>\n",
       "    </tr>\n",
       "  </thead>\n",
       "  <tbody>\n",
       "    <tr>\n",
       "      <th>995</th>\n",
       "      <td>Alice in Wonderland (Alice's ...</td>\n",
       "      <td>55.53</td>\n",
       "      <td>1</td>\n",
       "    </tr>\n",
       "    <tr>\n",
       "      <th>996</th>\n",
       "      <td>Ajin: Demi-Human, Volume 1 ...</td>\n",
       "      <td>57.06</td>\n",
       "      <td>4</td>\n",
       "    </tr>\n",
       "    <tr>\n",
       "      <th>997</th>\n",
       "      <td>A Spy's Devotion (The ...</td>\n",
       "      <td>16.97</td>\n",
       "      <td>5</td>\n",
       "    </tr>\n",
       "    <tr>\n",
       "      <th>998</th>\n",
       "      <td>1st to Die (Women's ...</td>\n",
       "      <td>53.98</td>\n",
       "      <td>1</td>\n",
       "    </tr>\n",
       "    <tr>\n",
       "      <th>999</th>\n",
       "      <td>1,000 Places to See ...</td>\n",
       "      <td>26.08</td>\n",
       "      <td>5</td>\n",
       "    </tr>\n",
       "  </tbody>\n",
       "</table>\n",
       "</div>"
      ],
      "text/plain": [
       "                                Title  Price  Rating\n",
       "995  Alice in Wonderland (Alice's ...  55.53       1\n",
       "996    Ajin: Demi-Human, Volume 1 ...  57.06       4\n",
       "997         A Spy's Devotion (The ...  16.97       5\n",
       "998           1st to Die (Women's ...  53.98       1\n",
       "999           1,000 Places to See ...  26.08       5"
      ]
     },
     "execution_count": 85,
     "metadata": {},
     "output_type": "execute_result"
    }
   ],
   "source": [
    "all_books_df = pd.DataFrame.from_dict(all_books_dict)\n",
    "all_books_df.tail()"
   ]
  },
  {
   "cell_type": "code",
   "execution_count": 86,
   "metadata": {},
   "outputs": [
    {
     "data": {
      "text/plain": [
       "<matplotlib.axes._subplots.AxesSubplot at 0x7f81bbeaaa50>"
      ]
     },
     "execution_count": 86,
     "metadata": {},
     "output_type": "execute_result"
    },
    {
     "data": {
      "image/png": "[encoded data removed]",
      "text/plain": [
       "<Figure size 432x288 with 1 Axes>"
      ]
     },
     "metadata": {
      "needs_background": "light"
     },
     "output_type": "display_data"
    }
   ],
   "source": [
    "all_books_df[\"Price\"].hist()"
   ]
  },
  {
   "cell_type": "code",
   "execution_count": 87,
   "metadata": {},
   "outputs": [
    {
     "data": {
      "text/plain": [
       "<matplotlib.axes._subplots.AxesSubplot at 0x7f81bbee5710>"
      ]
     },
     "execution_count": 87,
     "metadata": {},
     "output_type": "execute_result"
    },
    {
     "data": {
      "image/png": "[encoded data removed]",
      "text/plain": [
       "<Figure size 432x288 with 1 Axes>"
      ]
     },
     "metadata": {
      "needs_background": "light"
     },
     "output_type": "display_data"
    }
   ],
   "source": [
    "all_books_df.groupby(\"Rating\").count()[\"Title\"].plot(kind=\"bar\")"
   ]
  },
  {
   "cell_type": "code",
   "execution_count": 104,
   "metadata": {},
   "outputs": [],
   "source": [
    "all_books_df.to_csv(\"books.csv\")"
   ]
  },
  {
   "cell_type": "code",
   "execution_count": null,
   "metadata": {},
   "outputs": [],
   "source": []
  }
 ],
 "metadata": {
  "kernelspec": {
   "display_name": "Python 3",
   "language": "python",
   "name": "python3"
  },
  "language_info": {
   "codemirror_mode": {
    "name": "ipython",
    "version": 3
   },
   "file_extension": ".py",
   "mimetype": "text/x-python",
   "name": "python",
   "nbconvert_exporter": "python",
   "pygments_lexer": "ipython3",
   "version": "3.7.6"
  }
 },
 "nbformat": 4,
 "nbformat_minor": 4
}
